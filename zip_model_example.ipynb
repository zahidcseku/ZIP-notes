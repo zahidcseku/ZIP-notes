{
 "cells": [
  {
   "cell_type": "markdown",
   "metadata": {},
   "source": [
    "## ZIP model example"
   ]
  },
  {
   "cell_type": "markdown",
   "metadata": {},
   "source": [
    "Source: https://stats.idre.ucla.edu/r/dae/zip/\n",
    "\n",
    "**Data**: The state wildlife biologists want to model how many fish are being caught by fishermen at a state park. Visitors are asked how long they stayed, how many people were in the group, were there children in the group and how many fish were caught. Some visitors do not fish, but there is no data on whether a person fished or not. Some visitors who did fish did not catch any fish so there are excess zeros in the data because of the people that did not fish.\n",
    "\n",
    "We have data on 250 groups that went to a park. Each group was questioned about how many fish they caught (count), how many children were in the group (child), how many people were in the group (persons), and whether or not they brought a camper to the park (camper).\n",
    "\n",
    "In addition to predicting the number of fish caught, there is interest in predicting the existence of excess zeros, i.e., the probability that a group caught zero fish. \n",
    "\n",
    "\n",
    "We will use the variables child, persons, and camper in our model. Let’s look at the data."
   ]
  },
  {
   "cell_type": "markdown",
   "metadata": {},
   "source": [
    "## Checking the pytorch losses"
   ]
  },
  {
   "cell_type": "markdown",
   "metadata": {},
   "source": [
    "### NLLLoss\n",
    "\n",
    "source: https://pytorch.org/docs/stable/generated/torch.nn.NLLLoss.html\n",
    "\n",
    "- It is useful to train a classification problem with C classes.\n",
    "\n",
    "- The input given through a forward call is expected to contain *log-probabilities* of each class. \n",
    "- input has to be a Tensor of size either $(minibatch, C)$ or $(minibatch, C, d_1, d_2, \\dots, d_K)$ with $K \\ge 1$ for the K-dimensional case. \n",
    "\n",
    "- Obtaining **log-probabilities** in a neural network is easily achieved by adding a *LogSoftmax* layer in the last layer of your network. \n",
    "- *You may use CrossEntropyLoss instead, if you prefer not to add an extra layer.*\n",
    "\n",
    "- The target that this loss expects should be a class index in the range $[0, C−1]$ where $C$ = number of classes.\n",
    "\n",
    "- The unreduced loss can be described as:\n",
    "\n",
    "$$l(x,y) = L = \\{l_1, \\dots, l_N\\}^T, ~~l_n=w_{y_n}x_{n,y_n}, ~~~~w_c=weight[c]$$\n",
    "\n",
    "where $x$ is the input, $y$ is the target, $w$ is the weight, and $N$ is the batch size."
   ]
  },
  {
   "cell_type": "markdown",
   "metadata": {},
   "source": [
    "- **Input**: $(N,C)$ or $(C)$, where $C =$ number of classes, or $(N, C, d_1, d_2, \\dots, d_K) with $K\\ge 1$ in the case of K-dimensional loss.\n",
    "\n",
    "- **Target**: $(N)$ or $()$, where each value is $0 \\le targets[i] \\le C-1$, or $(N, d_1, d_2, \\dots, d_K)$ with $K \\ge 1$ in the case of K-dimensional loss.\n",
    "\n",
    "- **Output**: If reduction is 'none', shape $(N)$ or $(N, d_1, d_2, \\dots, d_K)$ with $K \\ge 1$ in the case of K-dimensional loss. \n",
    "Otherwise, scalar."
   ]
  },
  {
   "cell_type": "code",
   "execution_count": 1,
   "metadata": {},
   "outputs": [],
   "source": [
    "import torch\n",
    "import torch.nn as nn\n",
    "import numpy as np"
   ]
  },
  {
   "cell_type": "code",
   "execution_count": 2,
   "metadata": {},
   "outputs": [
    {
     "data": {
      "text/plain": [
       "tensor([[ 0.3703,  0.1460],\n",
       "        [ 0.4041,  1.9228],\n",
       "        [ 1.0584,  0.9538],\n",
       "        [ 1.3286, -0.0306]])"
      ]
     },
     "execution_count": 2,
     "metadata": {},
     "output_type": "execute_result"
    }
   ],
   "source": [
    "'''x here is input (or output of nn)'''\n",
    "x = torch.randn(4, 2)\n",
    "x"
   ]
  },
  {
   "cell_type": "code",
   "execution_count": 3,
   "metadata": {},
   "outputs": [
    {
     "data": {
      "text/plain": [
       "tensor([[-1.8918, -2.3018],\n",
       "        [-1.8580, -0.5250],\n",
       "        [-1.2037, -1.4940],\n",
       "        [-0.9336, -2.4785]])"
      ]
     },
     "execution_count": 3,
     "metadata": {},
     "output_type": "execute_result"
    }
   ],
   "source": [
    "log_pi = nn.LogSoftmax(dim=0)(x)\n",
    "log_pi"
   ]
  },
  {
   "cell_type": "code",
   "execution_count": 4,
   "metadata": {},
   "outputs": [
    {
     "data": {
      "text/plain": [
       "tensor([1, 0, 0, 1])"
      ]
     },
     "execution_count": 4,
     "metadata": {},
     "output_type": "execute_result"
    }
   ],
   "source": [
    "'''target y'''\n",
    "y = torch.empty(4).random_(2).to(torch.long)\n",
    "y"
   ]
  },
  {
   "cell_type": "code",
   "execution_count": 5,
   "metadata": {},
   "outputs": [
    {
     "data": {
      "text/plain": [
       "tensor(1.9605)"
      ]
     },
     "execution_count": 5,
     "metadata": {},
     "output_type": "execute_result"
    }
   ],
   "source": [
    "'''loss using pytorch function'''\n",
    "nn.NLLLoss()(log_pi, y)"
   ]
  },
  {
   "cell_type": "code",
   "execution_count": 6,
   "metadata": {},
   "outputs": [
    {
     "data": {
      "text/plain": [
       "tensor([2.3018, 1.8580, 1.2037, 2.4785])"
      ]
     },
     "execution_count": 6,
     "metadata": {},
     "output_type": "execute_result"
    }
   ],
   "source": [
    "nn.NLLLoss(reduction='none')(log_pi, y)"
   ]
  },
  {
   "cell_type": "code",
   "execution_count": 7,
   "metadata": {},
   "outputs": [],
   "source": [
    "'''manual computation'''\n",
    "log_pi = log_pi.numpy()\n",
    "y = y.numpy()"
   ]
  },
  {
   "cell_type": "code",
   "execution_count": 8,
   "metadata": {},
   "outputs": [
    {
     "data": {
      "text/plain": [
       "array([1, 0, 0, 1])"
      ]
     },
     "execution_count": 8,
     "metadata": {},
     "output_type": "execute_result"
    }
   ],
   "source": [
    "y"
   ]
  },
  {
   "cell_type": "code",
   "execution_count": 9,
   "metadata": {},
   "outputs": [
    {
     "data": {
      "text/plain": [
       "([2.3018057, 1.8579892, 1.2037171, 2.4784534], 1.9604914)"
      ]
     },
     "execution_count": 9,
     "metadata": {},
     "output_type": "execute_result"
    }
   ],
   "source": [
    "lstloss = []\n",
    "\n",
    "for k in range(len(log_pi)):\n",
    "    lstloss.append(-log_pi[k][y[k]])\n",
    "\n",
    "lstloss, np.mean(lstloss)"
   ]
  },
  {
   "cell_type": "markdown",
   "metadata": {},
   "source": [
    "### Poisson Loss\n",
    "source: https://pytorch.org/docs/stable/generated/torch.nn.PoissonNLLLoss.html?highlight=poisson%20loss#torch.nn.PoissonNLLLoss\n",
    "\n",
    "- Negative log likelihood loss with Poisson distribution of target.\n",
    "\n",
    "- The loss can be described as:\n",
    "$$target\\~ Poisson(input)~~ loss(input, target) = input−target\\times \\log(input) + \\log(target!)$$\n",
    "\n",
    "The last term can be omitted or approximated with Stirling formula. The approximation is used for target values more than 1. For targets less or equal to 1 zeros are added to the loss.\n",
    "\n",
    "#### Stirling term\n",
    "target∗log(target)−target+0.5∗log(2πtarget)."
   ]
  },
  {
   "cell_type": "code",
   "execution_count": 10,
   "metadata": {},
   "outputs": [
    {
     "data": {
      "text/plain": [
       "tensor([0.3703, 0.4041, 1.0584, 1.3286])"
      ]
     },
     "execution_count": 10,
     "metadata": {},
     "output_type": "execute_result"
    }
   ],
   "source": [
    "x = x[:,0]\n",
    "x"
   ]
  },
  {
   "cell_type": "code",
   "execution_count": 11,
   "metadata": {},
   "outputs": [
    {
     "data": {
      "text/plain": [
       "tensor([[0.3703],\n",
       "        [0.4041],\n",
       "        [1.0584],\n",
       "        [1.3286]])"
      ]
     },
     "execution_count": 11,
     "metadata": {},
     "output_type": "execute_result"
    }
   ],
   "source": [
    "x = x.reshape(-1, 1)\n",
    "x"
   ]
  },
  {
   "cell_type": "code",
   "execution_count": 12,
   "metadata": {},
   "outputs": [
    {
     "data": {
      "text/plain": [
       "tensor([[1],\n",
       "        [0],\n",
       "        [0],\n",
       "        [1]])"
      ]
     },
     "execution_count": 12,
     "metadata": {},
     "output_type": "execute_result"
    }
   ],
   "source": [
    "y = torch.as_tensor(y).reshape(-1,1)\n",
    "y"
   ]
  },
  {
   "cell_type": "code",
   "execution_count": 13,
   "metadata": {},
   "outputs": [
    {
     "data": {
      "text/plain": [
       "tensor(1.9762)"
      ]
     },
     "execution_count": 13,
     "metadata": {},
     "output_type": "execute_result"
    }
   ],
   "source": [
    "nn.PoissonNLLLoss()(x, y)"
   ]
  },
  {
   "cell_type": "code",
   "execution_count": 14,
   "metadata": {},
   "outputs": [
    {
     "data": {
      "text/plain": [
       "tensor([[1.0779],\n",
       "        [1.4980],\n",
       "        [2.8818],\n",
       "        [2.4470]])"
      ]
     },
     "execution_count": 14,
     "metadata": {},
     "output_type": "execute_result"
    }
   ],
   "source": [
    "nn.PoissonNLLLoss(reduction='none')(x, y)"
   ]
  },
  {
   "cell_type": "code",
   "execution_count": 15,
   "metadata": {},
   "outputs": [],
   "source": [
    "x = x.numpy()\n",
    "y = y.numpy()"
   ]
  },
  {
   "cell_type": "code",
   "execution_count": 16,
   "metadata": {},
   "outputs": [],
   "source": [
    "# target∗log(target)−target+0.5∗log(2πtarget)\n",
    "def sterling_approx(y):\n",
    "    if y <= 1: return 0\n",
    "    return y*np.log(y) - y + 0.5*np.log(np.pi*y)"
   ]
  },
  {
   "cell_type": "code",
   "execution_count": 17,
   "metadata": {},
   "outputs": [],
   "source": [
    "loss = []\n",
    "\n",
    "'''Pr(Y=y) = \\frac{e^-l*l^y}{y!}\n",
    "ll = log(e^-l*l^y) - log (y!)\n",
    "   = -l + y log l - log y!\n",
    "   \n",
    "- our output is log l, i.e.,\n",
    "ll = - e^l + y*l - log y!\n",
    "nll = e^l - y*l + log y!\n",
    "'''\n",
    "\n",
    "for i in range(len(x)):\n",
    "    el = np.exp(x[i])\n",
    "    yl = y[i] * x[i]\n",
    "    yfact = sterling_approx(y[i])\n",
    "    nll = el - yl + yfact\n",
    "    \n",
    "    loss.append(nll)"
   ]
  },
  {
   "cell_type": "code",
   "execution_count": 18,
   "metadata": {},
   "outputs": [
    {
     "data": {
      "text/plain": [
       "(array([[1.07786992],\n",
       "        [1.49802792],\n",
       "        [2.88181853],\n",
       "        [2.44703174]]),\n",
       " 1.976187027990818)"
      ]
     },
     "execution_count": 18,
     "metadata": {},
     "output_type": "execute_result"
    }
   ],
   "source": [
    "np.array(loss), np.mean(loss)"
   ]
  },
  {
   "cell_type": "markdown",
   "metadata": {},
   "source": [
    "## BCE loss\n",
    "source: https://pytorch.org/docs/stable/generated/torch.nn.BCELoss.html?highlight=binary%20loss\n",
    "\n",
    "- The unreduced (i.e. with reduction set to 'none') loss can be described as:\n",
    "\n",
    "$$l(x,y)=L={l_1, l_2, \\dots, l_N}^T, ~~~l_n=-w_n[y_n \\times \\log x_n + (1-y_n)\\times \\log(1-x_n)], $$\n",
    "\n",
    "where $N$ is the batch size. \n",
    "\n",
    "- This is used for measuring the error of a reconstruction in for example an auto-encoder. Note that the targets $y$ should be numbers between 0 and 1.\n",
    "\n",
    "- Notice that if $x_n$ is either 0 or 1, one of the $\\log$ terms would be mathematically undefined in the above loss equation. \n",
    "- PyTorch chooses to set $\\log(0)= - \\infty$\n",
    "\n",
    "- Shapes:\n",
    "    - Input: (\\*), where * means any number of dimensions.\n",
    "    - Target: (\\*), same shape as the input.\n",
    "    - Output: scalar. If reduction is 'none', then same shape as input."
   ]
  },
  {
   "cell_type": "code",
   "execution_count": 19,
   "metadata": {},
   "outputs": [],
   "source": [
    "x = torch.tensor(x)"
   ]
  },
  {
   "cell_type": "code",
   "execution_count": 20,
   "metadata": {},
   "outputs": [
    {
     "data": {
      "text/plain": [
       "tensor([[0.5915],\n",
       "        [0.5997],\n",
       "        [0.7424],\n",
       "        [0.7906]])"
      ]
     },
     "execution_count": 20,
     "metadata": {},
     "output_type": "execute_result"
    }
   ],
   "source": [
    "'''normalize'''\n",
    "m = nn.Sigmoid()\n",
    "model_output = m(x)\n",
    "model_output"
   ]
  },
  {
   "cell_type": "code",
   "execution_count": 21,
   "metadata": {},
   "outputs": [
    {
     "data": {
      "text/plain": [
       "tensor([[1.],\n",
       "        [0.],\n",
       "        [0.],\n",
       "        [1.]])"
      ]
     },
     "execution_count": 21,
     "metadata": {},
     "output_type": "execute_result"
    }
   ],
   "source": [
    "y = torch.tensor(y, dtype=torch.float)\n",
    "y"
   ]
  },
  {
   "cell_type": "code",
   "execution_count": 22,
   "metadata": {},
   "outputs": [
    {
     "data": {
      "text/plain": [
       "tensor(0.7580)"
      ]
     },
     "execution_count": 22,
     "metadata": {},
     "output_type": "execute_result"
    }
   ],
   "source": [
    "nn.BCELoss()(model_output, y)"
   ]
  },
  {
   "cell_type": "code",
   "execution_count": 23,
   "metadata": {},
   "outputs": [
    {
     "data": {
      "text/plain": [
       "tensor([[0.5250],\n",
       "        [0.9155],\n",
       "        [1.3563],\n",
       "        [0.2350]])"
      ]
     },
     "execution_count": 23,
     "metadata": {},
     "output_type": "execute_result"
    }
   ],
   "source": [
    "nn.BCELoss(reduction=\"none\")(model_output, y)"
   ]
  },
  {
   "cell_type": "code",
   "execution_count": 24,
   "metadata": {},
   "outputs": [],
   "source": [
    "x = model_output\n",
    "y = y"
   ]
  },
  {
   "cell_type": "markdown",
   "metadata": {},
   "source": [
    "## BCE loss\n",
    "\n",
    "Pr(Y=y) = pi^y + (1-pi)^(1-y)\n",
    "\n",
    "lpr = log(pi^y + (1-pi)^(1-y))\n",
    "    = y log pi + (1-y) log(1-pi)\n",
    "    \n",
    "pi is probability of y=1"
   ]
  },
  {
   "cell_type": "code",
   "execution_count": 25,
   "metadata": {},
   "outputs": [],
   "source": [
    "loss = []\n",
    "\n",
    "for i, item in enumerate(x):\n",
    "    #print(int(y[i][0]), item[0])\n",
    "    loss.append(-np.log(item) if y[i][0]==1 else -np.log(1-item))"
   ]
  },
  {
   "cell_type": "code",
   "execution_count": 26,
   "metadata": {},
   "outputs": [
    {
     "data": {
      "text/plain": [
       "([tensor([0.5250]), tensor([0.9155]), tensor([1.3563]), tensor([0.2350])],\n",
       " 0.7579515)"
      ]
     },
     "execution_count": 26,
     "metadata": {},
     "output_type": "execute_result"
    }
   ],
   "source": [
    "loss, np.mean(loss)"
   ]
  },
  {
   "cell_type": "code",
   "execution_count": null,
   "metadata": {},
   "outputs": [],
   "source": []
  },
  {
   "cell_type": "markdown",
   "metadata": {},
   "source": [
    "# Example\n",
    "\n",
    "from: https://gist.github.com/josef-pkt/c932904296270d75366a24ee92a4eb2f"
   ]
  },
  {
   "cell_type": "code",
   "execution_count": 27,
   "metadata": {},
   "outputs": [],
   "source": [
    "%matplotlib inline\n",
    "import matplotlib.style as style\n",
    "style.use('ggplot')\n",
    "style.use('seaborn-notebook')\n",
    "style.use('seaborn-whitegrid')\n",
    "#style.use('classic')\n",
    "\n",
    "import numpy as np\n",
    "import pandas as pd\n",
    "import matplotlib.pyplot as plt\n",
    "\n",
    "import statsmodels.distributions.discrete as distr\n",
    "from statsmodels.discrete.count_model import ZeroInflatedPoisson\n",
    "import statsmodels.discrete._diagnostics_count as dia"
   ]
  },
  {
   "cell_type": "code",
   "execution_count": 28,
   "metadata": {},
   "outputs": [],
   "source": [
    "expected_params = [1, 1, 0.5]\n",
    "\n",
    "np.random.seed(987123)\n",
    "nobs = 500\n",
    "\n",
    "exog = np.ones((nobs, 2))\n",
    "exog[:nobs//2, 1] = 0\n",
    "# offset is used to create misspecification of the model\n",
    "# for predicted probabilities conditional moment test\n",
    "#offset = 0.5 * np.random.randn(nobs)\n",
    "range_mix = 0.5\n",
    "offset = -range_mix / 2 + range_mix * np.random.rand(nobs)\n",
    "offset = 0\n",
    "mu_true = np.exp(exog.dot(expected_params[:-1]) + offset)\n",
    "\n",
    "prob_infl = 0.15\n",
    "\n",
    "endog = distr.zinegbin.rvs(mu_true, expected_params[-1], 2, prob_infl, size=mu_true.shape)"
   ]
  },
  {
   "cell_type": "code",
   "execution_count": 29,
   "metadata": {},
   "outputs": [
    {
     "data": {
      "text/plain": [
       "array([[1., 0.],\n",
       "       [1., 0.],\n",
       "       [1., 0.],\n",
       "       [1., 0.],\n",
       "       [1., 0.]])"
      ]
     },
     "execution_count": 29,
     "metadata": {},
     "output_type": "execute_result"
    }
   ],
   "source": [
    "exog[:5]"
   ]
  },
  {
   "cell_type": "code",
   "execution_count": 30,
   "metadata": {},
   "outputs": [
    {
     "data": {
      "text/plain": [
       "0     142\n",
       "1      59\n",
       "3      52\n",
       "2      47\n",
       "5      35\n",
       "4      34\n",
       "7      25\n",
       "6      24\n",
       "8      13\n",
       "10     13\n",
       "9      11\n",
       "12      9\n",
       "11      8\n",
       "15      7\n",
       "13      5\n",
       "24      3\n",
       "14      2\n",
       "17      2\n",
       "18      1\n",
       "19      1\n",
       "21      1\n",
       "22      1\n",
       "23      1\n",
       "26      1\n",
       "27      1\n",
       "31      1\n",
       "35      1\n",
       "Name: target, dtype: int64"
      ]
     },
     "execution_count": 30,
     "metadata": {},
     "output_type": "execute_result"
    }
   ],
   "source": [
    "df = pd.DataFrame()\n",
    "df['target'] = endog\n",
    "\n",
    "df['target'].value_counts()"
   ]
  },
  {
   "cell_type": "code",
   "execution_count": 31,
   "metadata": {},
   "outputs": [],
   "source": [
    "df['x0'] = exog[...,0]\n",
    "df['x1'] = exog[...,1]"
   ]
  },
  {
   "cell_type": "code",
   "execution_count": 32,
   "metadata": {},
   "outputs": [
    {
     "data": {
      "text/plain": [
       "(500,)"
      ]
     },
     "execution_count": 32,
     "metadata": {},
     "output_type": "execute_result"
    }
   ],
   "source": [
    "endog.shape"
   ]
  },
  {
   "cell_type": "code",
   "execution_count": 33,
   "metadata": {},
   "outputs": [
    {
     "data": {
      "text/plain": [
       "(500, 2)"
      ]
     },
     "execution_count": 33,
     "metadata": {},
     "output_type": "execute_result"
    }
   ],
   "source": [
    "exog.shape"
   ]
  },
  {
   "cell_type": "code",
   "execution_count": 34,
   "metadata": {},
   "outputs": [
    {
     "name": "stdout",
     "output_type": "stream",
     "text": [
      "Optimization terminated successfully.\n",
      "         Current function value: 2.855069\n",
      "         Iterations: 7\n",
      "         Function evaluations: 9\n",
      "         Gradient evaluations: 9\n"
     ]
    },
    {
     "name": "stderr",
     "output_type": "stream",
     "text": [
      "/Library/Frameworks/Python.framework/Versions/3.8/lib/python3.8/site-packages/statsmodels/base/model.py:566: ConvergenceWarning: Maximum Likelihood optimization failed to converge. Check mle_retvals\n",
      "  warnings.warn(\"Maximum Likelihood optimization failed to \"\n"
     ]
    }
   ],
   "source": [
    "model_zip = ZeroInflatedPoisson(endog, exog)\n",
    "res_zip = model_zip.fit(method='bfgs', maxiter=5000, maxfun=5000)\n",
    "\n",
    "probs_zip = res_zip.predict(which='prob')\n",
    "probsm_zip = probs_zip.mean(0)"
   ]
  },
  {
   "cell_type": "code",
   "execution_count": 35,
   "metadata": {},
   "outputs": [
    {
     "data": {
      "text/plain": [
       "36"
      ]
     },
     "execution_count": 35,
     "metadata": {},
     "output_type": "execute_result"
    }
   ],
   "source": [
    "freq = np.bincount(endog) / nobs\n",
    "len(freq)"
   ]
  },
  {
   "cell_type": "code",
   "execution_count": 36,
   "metadata": {},
   "outputs": [
    {
     "data": {
      "image/png": "[encoded data removed]",
      "text/plain": [
       "<Figure size 576x864 with 3 Axes>"
      ]
     },
     "metadata": {},
     "output_type": "display_data"
    }
   ],
   "source": [
    "_= dia.plot_probs(freq, probsm_zip, label='zigenpoisson')"
   ]
  },
  {
   "cell_type": "code",
   "execution_count": 37,
   "metadata": {},
   "outputs": [
    {
     "data": {
      "text/plain": [
       "(500, 36)"
      ]
     },
     "execution_count": 37,
     "metadata": {},
     "output_type": "execute_result"
    }
   ],
   "source": [
    "probs_zip.shape"
   ]
  },
  {
   "cell_type": "code",
   "execution_count": 38,
   "metadata": {},
   "outputs": [
    {
     "data": {
      "text/plain": [
       "(36,)"
      ]
     },
     "execution_count": 38,
     "metadata": {},
     "output_type": "execute_result"
    }
   ],
   "source": [
    "probsm_zip.shape"
   ]
  },
  {
   "cell_type": "code",
   "execution_count": 39,
   "metadata": {},
   "outputs": [],
   "source": [
    "features = ['x0', 'x1']\n",
    "target = \"target\""
   ]
  },
  {
   "cell_type": "code",
   "execution_count": 40,
   "metadata": {},
   "outputs": [
    {
     "data": {
      "text/plain": [
       "35"
      ]
     },
     "execution_count": 40,
     "metadata": {},
     "output_type": "execute_result"
    }
   ],
   "source": [
    "df[target].max()"
   ]
  },
  {
   "cell_type": "code",
   "execution_count": 41,
   "metadata": {},
   "outputs": [
    {
     "data": {
      "text/plain": [
       "0"
      ]
     },
     "execution_count": 41,
     "metadata": {},
     "output_type": "execute_result"
    }
   ],
   "source": [
    "df[target].min()"
   ]
  },
  {
   "cell_type": "markdown",
   "metadata": {},
   "source": [
    "Given X, y and network parameters $\\Theta$, we want to learn parameters of the zero inflated poisson models for each instance $x$ ie., $\\lambda$ and $\\mu$.\n",
    "\n",
    "Once the model is trained, given an unknown $x_i$ model will provide two parameters $\\lambda_i$ and $\\mu_i$. From these parameters, we need to compute the expectations (which will be our count). \n",
    "\n"
   ]
  },
  {
   "cell_type": "code",
   "execution_count": 42,
   "metadata": {},
   "outputs": [],
   "source": [
    "# target∗log(target)−target+0.5∗log(2πtarget)\n",
    "def sterling_approx(y):\n",
    "    if y[0] == 0: return 0\n",
    "    return y*np.log(y) - y + 0.5*np.log(np.pi*y)"
   ]
  },
  {
   "cell_type": "code",
   "execution_count": 43,
   "metadata": {},
   "outputs": [],
   "source": [
    "import torch.nn as nn\n",
    "from torch.autograd import Variable\n",
    "import numpy as np\n",
    "\n",
    "class ZIPModelBC(nn.Module):\n",
    "    def __init__(self, inputdim, hidden_dims, outputdim=2):\n",
    "        super(ZIPModelBC, self).__init__()\n",
    "        \n",
    "        _layers = list()\n",
    "        \n",
    "        _layers.append(nn.Linear(inputdim, hidden_dims[0]))\n",
    "        for h1, h2 in zip(hidden_dims[:], hidden_dims[1:]):\n",
    "            _layers.append(nn.ReLU())\n",
    "            _layers.append(nn.Linear(h1, h2))\n",
    "            \n",
    "        \n",
    "        _layers.append(nn.ReLU())\n",
    "        _layers.append(nn.Linear(h2, outputdim))\n",
    "        \n",
    "        self.layers = nn.Sequential(*_layers)\n",
    "        \n",
    "\n",
    "    def forward(self, x):\n",
    "        out = self.layers(x)\n",
    "        \n",
    "        \n",
    "        return out"
   ]
  },
  {
   "cell_type": "code",
   "execution_count": 44,
   "metadata": {},
   "outputs": [],
   "source": [
    "import math\n",
    "\n",
    "def zip_loss(inputx, targety, verbose=0):\n",
    "    zero_idx = torch.as_tensor(np.where(targety==0)[0])\n",
    "    nonzero_idx = torch.as_tensor(np.where(targety>0)[0])\n",
    "    \n",
    "    pix_zero = nn.Sigmoid()(inputx[zero_idx, 0])\n",
    "    pix_nonzero = nn.Sigmoid()(inputx[nonzero_idx, 0])\n",
    "    \n",
    "    #print(inputx[:5])\n",
    "    #print(pix_zero[:5])\n",
    "    #print(pix_nonzero[:5])\n",
    "    \n",
    "    lambdax_zero = torch.exp(inputx[zero_idx, 1])\n",
    "    lambdax_nonzero = torch.exp(inputx[nonzero_idx, 1])\n",
    "\n",
    "    \n",
    "    #zero_likelihoood = torch.log(pix[zero_idx] + (1-pix[zero_idx]).reshape(-1,1) * lambdax[zero_idx])   #where targety == 0\n",
    "    zero_likelihood = torch.log(pix_zero + (1-pix_zero)*lambdax_zero)   #where targety == 0\n",
    "    \n",
    "    #print(targety[nonzero_idx].flatten())\n",
    "    numerator1 = torch.pow(lambdax_nonzero, targety[nonzero_idx].flatten())\n",
    "    numerator2 = torch.exp(-lambdax_nonzero)\n",
    "    non_zero_num = (1-pix_nonzero) * numerator1 * numerator2\n",
    "    \n",
    "    '''https://en.wikipedia.org/wiki/Stirling%27s_approximation'''\n",
    "    facts = [np.sqrt(2*np.pi)*np.power(i.item(), i.item()+0.5)*np.exp(-i.item()) for i in targety[nonzero_idx]]\n",
    "    non_zero_denum = torch.as_tensor(facts, dtype=torch.float64)\n",
    "    \n",
    "    non_zero_likelihood = torch.log(non_zero_num / non_zero_denum)\n",
    "    \n",
    "    totalloss = torch.mean(zero_likelihood) + torch.mean(non_zero_likelihood) \n",
    "    \n",
    "    #total_logloss = zero_loss + non_zero_loss\n",
    "    \n",
    "    if verbose:\n",
    "        print(f'Input shape: {inputx.shape}')\n",
    "        print(f'Target shape: {targety.shape}')\n",
    "        \n",
    "        print(f'pix_zero shape: {pix_zero.shape}')\n",
    "        print(f'pix_nonzero shape: {pix_nonzero.shape}')\n",
    "        \n",
    "        print(f'lambdax_zero shape: {lambdax_zero.shape}')\n",
    "        print(f'lambdax_nonzero shape: {lambdax_nonzero.shape}')\n",
    "        \n",
    "        print(f'zero_likelihood shape: {zero_likelihood.shape}')\n",
    "        \n",
    "        print(f'numerator1 shape: {numerator1.shape}')\n",
    "        print(f'numerator2 shape: {numerator2.shape}')\n",
    "        \n",
    "        print(f'facts shape: {non_zero_denum.shape}')\n",
    "        \n",
    "        print(f'non_zero_loss shape: {non_zero_likelihood.shape}')\n",
    "        \n",
    "        print(\"zero_likelihood\", torch.mean(zero_likelihood))\n",
    "        print(\"non_zero_likelihood\", torch.mean(non_zero_likelihood))\n",
    "        print(\"total_loss\", totalloss)\n",
    "        \n",
    "        \n",
    "    return -totalloss"
   ]
  },
  {
   "cell_type": "code",
   "execution_count": 80,
   "metadata": {},
   "outputs": [],
   "source": [
    "inputdim  = len(features)  # takes variable 'x' \n",
    "learningRate = 0.01\n",
    "epochs = 2000\n",
    "\n",
    "model = ZIPModelBC(inputdim, hidden_dims=[16,8,4])"
   ]
  },
  {
   "cell_type": "code",
   "execution_count": 81,
   "metadata": {},
   "outputs": [
    {
     "data": {
      "text/plain": [
       "ZIPModelBC(\n",
       "  (layers): Sequential(\n",
       "    (0): Linear(in_features=2, out_features=16, bias=True)\n",
       "    (1): ReLU()\n",
       "    (2): Linear(in_features=16, out_features=8, bias=True)\n",
       "    (3): ReLU()\n",
       "    (4): Linear(in_features=8, out_features=4, bias=True)\n",
       "    (5): ReLU()\n",
       "    (6): Linear(in_features=4, out_features=2, bias=True)\n",
       "  )\n",
       ")"
      ]
     },
     "execution_count": 81,
     "metadata": {},
     "output_type": "execute_result"
    }
   ],
   "source": [
    "model"
   ]
  },
  {
   "cell_type": "code",
   "execution_count": 82,
   "metadata": {},
   "outputs": [],
   "source": [
    "optimizer = torch.optim.Adam(model.parameters(), lr=learningRate)"
   ]
  },
  {
   "cell_type": "code",
   "execution_count": 83,
   "metadata": {},
   "outputs": [
    {
     "name": "stdout",
     "output_type": "stream",
     "text": [
      "epoch   0 | loss 8.6750\n",
      "epoch 100 | loss 1.5221\n",
      "epoch 200 | loss 1.4963\n",
      "epoch 300 | loss 1.4907\n",
      "epoch 400 | loss 1.4886\n",
      "epoch 500 | loss 1.4877\n",
      "epoch 600 | loss 1.4872\n",
      "epoch 700 | loss 1.4869\n",
      "epoch 800 | loss 1.4867\n",
      "epoch 900 | loss 1.4865\n",
      "epoch 1000 | loss 1.4865\n",
      "epoch 1100 | loss 1.4864\n",
      "epoch 1200 | loss 1.4863\n",
      "epoch 1300 | loss 1.4863\n",
      "epoch 1400 | loss 1.4863\n",
      "epoch 1500 | loss 1.4862\n",
      "epoch 1600 | loss 1.4862\n",
      "epoch 1700 | loss 1.4862\n",
      "epoch 1800 | loss 1.4862\n",
      "epoch 1900 | loss 1.4862\n",
      "epoch 1999 | loss 1.4862\n"
     ]
    }
   ],
   "source": [
    "for epoch in range(epochs):\n",
    "    # Converting inputs and labels to Variable\n",
    "    inputs = Variable(torch.tensor(df[features].astype(np.float32).values))\n",
    "    targets = Variable(torch.tensor(df[target].astype(np.float32).values)).reshape(-1,1)\n",
    "\n",
    "    optimizer.zero_grad()\n",
    "\n",
    "    # get output from the model, given the inputs\n",
    "    outputs = model(inputs)\n",
    "    \n",
    "    #print(outputs[0:5])\n",
    "    # get loss for the predicted output\n",
    "    zloss = zip_loss(outputs, targets, verbose=0)\n",
    "    \n",
    "    # get gradients w.r.t to parameters\n",
    "    zloss.backward()\n",
    "    \n",
    "    #print(f\"grads:{model.linear.weight.grad}\")\n",
    "    \n",
    "    # update parameters\n",
    "    optimizer.step()\n",
    "    #print(f\"updated weights: {model.linear.weight}\")\n",
    "    \n",
    "    if epoch%100==0:\n",
    "        print('epoch {:3d} | loss {:.4f}'.format(epoch, zloss.item()))\n",
    "\n",
    "print('epoch {:3d} | loss {:.4f}'.format(epoch, zloss.item()))\n",
    "    #if epoch == 0: break"
   ]
  },
  {
   "cell_type": "code",
   "execution_count": null,
   "metadata": {},
   "outputs": [],
   "source": []
  },
  {
   "cell_type": "code",
   "execution_count": 84,
   "metadata": {},
   "outputs": [],
   "source": [
    "#test_inputs = Variable(torch.tensor(testX.astype(np.float32).values))\n",
    "#test_targets = Variable(torch.tensor(testY.astype(np.float32).values)).reshape(-1,1)\n",
    "\n",
    "preds = model(inputs)"
   ]
  },
  {
   "cell_type": "code",
   "execution_count": 85,
   "metadata": {},
   "outputs": [
    {
     "data": {
      "text/plain": [
       "tensor([4.9938, 4.9938, 4.9938, 4.9938, 4.9938, 7.8437, 7.8437, 7.8437, 7.8437,\n",
       "        7.8437], grad_fn=<SliceBackward0>)"
      ]
     },
     "execution_count": 85,
     "metadata": {},
     "output_type": "execute_result"
    }
   ],
   "source": [
    "lambdas = torch.exp(preds[..., 1])\n",
    "lambdas[245:255]"
   ]
  },
  {
   "cell_type": "code",
   "execution_count": 86,
   "metadata": {},
   "outputs": [
    {
     "data": {
      "text/plain": [
       "tensor([6.5668e-05, 6.5668e-05, 6.5668e-05, 6.5668e-05, 6.5668e-05, 3.7351e-06,\n",
       "        3.7351e-06, 3.7351e-06, 3.7351e-06, 3.7351e-06],\n",
       "       grad_fn=<SliceBackward0>)"
      ]
     },
     "execution_count": 86,
     "metadata": {},
     "output_type": "execute_result"
    }
   ],
   "source": [
    "pis = nn.Sigmoid()(preds[..., 0])\n",
    "pis[245:255]"
   ]
  },
  {
   "cell_type": "code",
   "execution_count": 87,
   "metadata": {},
   "outputs": [],
   "source": [
    "'''generate the predictions'''\n",
    "\n",
    "probs = list()\n",
    "for fr in range(36):\n",
    "    pi = pis[fr].item()\n",
    "    lambd = lambdas[fr].item()\n",
    "    y = fr\n",
    "    \n",
    "    if y == 0: \n",
    "        pr = pi + (1-pi)*np.exp(-lambd)\n",
    "    else:\n",
    "        pr = (1-pi)*np.power(lambd, y)*np.exp(-lambd) / math.factorial(y)\n",
    "        \n",
    "    probs.append(pr)"
   ]
  },
  {
   "cell_type": "code",
   "execution_count": 55,
   "metadata": {},
   "outputs": [
    {
     "data": {
      "image/png": "[encoded data removed]",
      "text/plain": [
       "<Figure size 576x864 with 3 Axes>"
      ]
     },
     "metadata": {},
     "output_type": "display_data"
    }
   ],
   "source": [
    "_= dia.plot_probs(freq, probs, label='zigenpoisson')"
   ]
  },
  {
   "cell_type": "markdown",
   "metadata": {},
   "source": [
    "## Expectations\n",
    "\n",
    "- Expectation of Poisson random variable:\n",
    "\n",
    "$X\\~ Poisson (\\lambda), ~ \\lambda >0, p(k) = e^{-\\lambda} \\lambda^k / k!$\n",
    "\n",
    "$E[X]= \\sum_{k=0}^{\\infty} k * p(k) = \\sum_{k=0}^{\\infty} k * e^{-\\lambda}  \\frac{\\lambda^k}{k!} = e^{-\\lambda} \\sum_{k=0}^{\\infty} k \\frac{\\lambda^k}{k!}$\n",
    "\n",
    "$= e^{-\\lambda} \\sum_{k=1}^{\\infty} \\frac{\\lambda^k}{(k-1)!}= \\lambda e^{-\\lambda} \\sum_{k=1}^{\\infty} \\frac{\\lambda^(k-1)}{(k-1)!}$\n",
    "\n",
    "Let, $k-1=j$\n",
    "\n",
    "$= \\lambda e^{-\\lambda} \\sum_{j=0}^{\\infty} \\frac{\\lambda^(j)}{(j)!} = \\lambda e^{-\\lambda} \\times e^{\\lambda} = \\lambda$\n",
    "\n",
    "\n",
    "- Expectation of Bernoulli random variable:\n",
    "\n",
    "$E[X] = \\sum_x x\\times p(x) = 0 \\times (1-p) + 1 \\times p = p$"
   ]
  },
  {
   "cell_type": "code",
   "execution_count": 56,
   "metadata": {},
   "outputs": [],
   "source": [
    "'''generate the predictions: count'''\n",
    "\n",
    "counts = list()\n",
    "for fr in range(len(df)):\n",
    "    pi = pis[fr].item()\n",
    "    lambd = lambdas[fr].item()\n",
    "    \n",
    "    c = round(pi) * round(lambd)\n",
    "        \n",
    "    counts.append(c)"
   ]
  },
  {
   "cell_type": "code",
   "execution_count": 57,
   "metadata": {},
   "outputs": [
    {
     "data": {
      "text/html": [
       "<div>\n",
       "<style scoped>\n",
       "    .dataframe tbody tr th:only-of-type {\n",
       "        vertical-align: middle;\n",
       "    }\n",
       "\n",
       "    .dataframe tbody tr th {\n",
       "        vertical-align: top;\n",
       "    }\n",
       "\n",
       "    .dataframe thead th {\n",
       "        text-align: right;\n",
       "    }\n",
       "</style>\n",
       "<table border=\"1\" class=\"dataframe\">\n",
       "  <thead>\n",
       "    <tr style=\"text-align: right;\">\n",
       "      <th></th>\n",
       "      <th>target</th>\n",
       "      <th>x0</th>\n",
       "      <th>x1</th>\n",
       "    </tr>\n",
       "  </thead>\n",
       "  <tbody>\n",
       "    <tr>\n",
       "      <th>0</th>\n",
       "      <td>0</td>\n",
       "      <td>1.0</td>\n",
       "      <td>0.0</td>\n",
       "    </tr>\n",
       "    <tr>\n",
       "      <th>1</th>\n",
       "      <td>0</td>\n",
       "      <td>1.0</td>\n",
       "      <td>0.0</td>\n",
       "    </tr>\n",
       "    <tr>\n",
       "      <th>2</th>\n",
       "      <td>0</td>\n",
       "      <td>1.0</td>\n",
       "      <td>0.0</td>\n",
       "    </tr>\n",
       "    <tr>\n",
       "      <th>3</th>\n",
       "      <td>7</td>\n",
       "      <td>1.0</td>\n",
       "      <td>0.0</td>\n",
       "    </tr>\n",
       "    <tr>\n",
       "      <th>4</th>\n",
       "      <td>2</td>\n",
       "      <td>1.0</td>\n",
       "      <td>0.0</td>\n",
       "    </tr>\n",
       "  </tbody>\n",
       "</table>\n",
       "</div>"
      ],
      "text/plain": [
       "   target   x0   x1\n",
       "0       0  1.0  0.0\n",
       "1       0  1.0  0.0\n",
       "2       0  1.0  0.0\n",
       "3       7  1.0  0.0\n",
       "4       2  1.0  0.0"
      ]
     },
     "execution_count": 57,
     "metadata": {},
     "output_type": "execute_result"
    }
   ],
   "source": [
    "df.head()"
   ]
  },
  {
   "cell_type": "markdown",
   "metadata": {},
   "source": [
    "### ZIP using pytorch loss functions"
   ]
  },
  {
   "cell_type": "markdown",
   "metadata": {},
   "source": [
    "- Poisson loss: loss(input, target) = input−target\\times \\log(input) + \\log(target!)\n",
    "    - when target = 0: loss(input, 0) = input \n",
    "    - here, input is model output i.e., $\\log \\lambda$ i.e., loss(input, 0) = $\\log \\lambda$\n",
    "\n",
    "    - when target > 0:  loss(input, > 0) = $input−target\\times \\log(input) + \\log(target!)$\n",
    "\n",
    "- BCE loss: loss(input, target) = $target \\times \\log input + (1-target)\\times \\log(1-input)$\n",
    "    - when traget = 0: $loss(input, 0) = \\log(1-input)$\n",
    "    - when traget = 1: $loss(input, 1) = \\log(input)$\n",
    "    \n",
    "- ZIP loss:\n",
    "    - when traget = 0: l1 = poisonloss + bceloss\n",
    "    - when traget > 0: l2 = poisonloss * bceloss\n",
    "    - loss = l1+l2"
   ]
  },
  {
   "cell_type": "code",
   "execution_count": 111,
   "metadata": {},
   "outputs": [],
   "source": [
    "def ziploss_pytorch_fn(inputx, targety, verbose=0):\n",
    "    sigpi = nn.Sigmoid()(inputx[..., 0]).reshape(-1,1)\n",
    "    #print(sigpi.shape)\n",
    "    piloss = nn.BCELoss()(sigpi, targety)\n",
    "    \n",
    "    lmbdaloss = nn.PoissonNLLLoss()(inputx[..., 0], targety)\n",
    "    \n",
    "    \n",
    "    zero_mask = torch.zeros(targety.shape)\n",
    "    #mask_nonzero = torch.where(y > 0, 1, 0)\n",
    "    \n",
    "    l1 = torch.where(targety==0, lmbdaloss, targety) + torch.where(targety==0, piloss, targety)\n",
    "    #print(l1.shape)\n",
    "    l2 = torch.where(targety>0, lmbdaloss, zero_mask) * torch.where(targety>0, piloss, zero_mask)\n",
    "    #print(l2.shape)\n",
    "    #lmbdaloss*mask_nonzero * piloss*mask_nonzero\n",
    "    \n",
    "    total_loss = l1 + l2\n",
    "    return total_loss.mean()"
   ]
  },
  {
   "cell_type": "code",
   "execution_count": 153,
   "metadata": {},
   "outputs": [],
   "source": [
    "inputdim  = len(features)  # takes variable 'x' \n",
    "learningRate = 0.0004\n",
    "epochs = 2000\n",
    "\n",
    "model = ZIPModelBC(inputdim, hidden_dims=[16,8,4])"
   ]
  },
  {
   "cell_type": "code",
   "execution_count": 154,
   "metadata": {},
   "outputs": [],
   "source": [
    "optimizer = torch.optim.Adam(model.parameters(), lr=learningRate)"
   ]
  },
  {
   "cell_type": "code",
   "execution_count": 155,
   "metadata": {},
   "outputs": [
    {
     "name": "stdout",
     "output_type": "stream",
     "text": [
      "epoch  0 | loss 12.2391\n",
      "epoch 100 | loss 11.1119\n",
      "epoch 200 | loss 10.2761\n",
      "epoch 300 | loss 9.5446\n",
      "epoch 400 | loss 8.9200\n",
      "epoch 500 | loss 8.4477\n",
      "epoch 600 | loss 8.1348\n",
      "epoch 700 | loss 7.9541\n",
      "epoch 800 | loss 7.8634\n",
      "epoch 900 | loss 7.8238\n",
      "epoch 1000 | loss 7.8087\n",
      "epoch 1100 | loss 7.8037\n",
      "epoch 1200 | loss 7.8022\n",
      "epoch 1300 | loss 7.8018\n",
      "epoch 1400 | loss 7.8017\n",
      "epoch 1500 | loss 7.8017\n",
      "epoch 1600 | loss 7.8017\n",
      "epoch 1700 | loss 7.8017\n",
      "epoch 1800 | loss 7.8017\n",
      "epoch 1900 | loss 7.8017\n",
      "epoch 1999 | loss 7.8017\n"
     ]
    }
   ],
   "source": [
    "for epoch in range(epochs):\n",
    "    # Converting inputs and labels to Variable\n",
    "    inputs = Variable(torch.tensor(df[features].astype(np.float32).values))\n",
    "    targets = Variable(torch.tensor(df[target].astype(np.float32).values)).reshape(-1,1)\n",
    "\n",
    "    optimizer.zero_grad()\n",
    "    \n",
    "    #print(inputs.shape)\n",
    "    #print(targets.shape)\n",
    "    \n",
    "    # get output from the model, given the inputs\n",
    "    outputs = model(inputs)\n",
    "    \n",
    "    #print(outputs[0:5])\n",
    "    # get loss for the predicted output\n",
    "    #print(outputs.shape)\n",
    "    zloss = ziploss_pytorch_fn(outputs, targets)\n",
    "    \n",
    "    # get gradients w.r.t to parameters\n",
    "    zloss.backward()\n",
    "    \n",
    "    #print(f\"grads:{model.linear.weight.grad}\")\n",
    "    \n",
    "    # update parameters\n",
    "    optimizer.step()\n",
    "    #print(f\"updated weights: {model.linear.weight}\")\n",
    "    \n",
    "    if epoch % 100 == 0:\n",
    "        print('epoch {:2d} | loss {:.4f}'.format(epoch, zloss.item()))\n",
    "    \n",
    "print('epoch {:2d} | loss {:.4f}'.format(epoch, zloss.item()))"
   ]
  },
  {
   "cell_type": "code",
   "execution_count": 156,
   "metadata": {},
   "outputs": [],
   "source": [
    "preds = model(inputs)"
   ]
  },
  {
   "cell_type": "code",
   "execution_count": 157,
   "metadata": {},
   "outputs": [
    {
     "data": {
      "text/plain": [
       "tensor([0.7014, 0.7014, 0.7014, 0.7014, 0.7014, 0.7014, 0.7014, 0.7014, 0.7014,\n",
       "        0.7014], grad_fn=<SliceBackward0>)"
      ]
     },
     "execution_count": 157,
     "metadata": {},
     "output_type": "execute_result"
    }
   ],
   "source": [
    "lambdas = torch.exp(preds[..., 1])\n",
    "lambdas[245:255]"
   ]
  },
  {
   "cell_type": "code",
   "execution_count": 158,
   "metadata": {},
   "outputs": [
    {
     "data": {
      "text/plain": [
       "tensor([0.6028, 0.6028, 0.6028, 0.6028, 0.6028, 0.6028, 0.6028, 0.6028, 0.6028,\n",
       "        0.6028], grad_fn=<SliceBackward0>)"
      ]
     },
     "execution_count": 158,
     "metadata": {},
     "output_type": "execute_result"
    }
   ],
   "source": [
    "pis = nn.Sigmoid()(preds[..., 0])\n",
    "pis[245:255]"
   ]
  },
  {
   "cell_type": "code",
   "execution_count": 159,
   "metadata": {},
   "outputs": [],
   "source": [
    "'''generate the predictions'''\n",
    "\n",
    "probs = list()\n",
    "for fr in range(36):\n",
    "    pi = pis[fr].item()\n",
    "    lambd = lambdas[fr].item()\n",
    "    y = fr\n",
    "    \n",
    "    if y == 0: \n",
    "        pr = pi + (1-pi)*np.exp(-lambd)\n",
    "    else:\n",
    "        pr = (1-pi)*np.power(lambd, y)*np.exp(-lambd) / math.factorial(y)\n",
    "        \n",
    "    probs.append(pr)"
   ]
  },
  {
   "cell_type": "code",
   "execution_count": 66,
   "metadata": {},
   "outputs": [
    {
     "data": {
      "image/png": "[encoded data removed]",
      "text/plain": [
       "<Figure size 576x864 with 3 Axes>"
      ]
     },
     "metadata": {},
     "output_type": "display_data"
    }
   ],
   "source": [
    "_= dia.plot_probs(freq, probs, label='zigenpoisson')"
   ]
  }
 ],
 "metadata": {
  "kernelspec": {
   "display_name": "Python 3",
   "language": "python",
   "name": "python3"
  },
  "language_info": {
   "codemirror_mode": {
    "name": "ipython",
    "version": 3
   },
   "file_extension": ".py",
   "mimetype": "text/x-python",
   "name": "python",
   "nbconvert_exporter": "python",
   "pygments_lexer": "ipython3",
   "version": "3.8.6"
  }
 },
 "nbformat": 4,
 "nbformat_minor": 4
}
